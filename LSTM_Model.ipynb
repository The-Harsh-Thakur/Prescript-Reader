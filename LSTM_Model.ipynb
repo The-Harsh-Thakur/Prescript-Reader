{
 "cells": [
  {
   "cell_type": "code",
   "execution_count": 1,
   "id": "5482a6e5-9444-45e0-8267-aeaa341c00ff",
   "metadata": {},
   "outputs": [
    {
     "name": "stderr",
     "output_type": "stream",
     "text": [
      "2024-11-11 01:46:02.228413: E external/local_xla/xla/stream_executor/cuda/cuda_fft.cc:477] Unable to register cuFFT factory: Attempting to register factory for plugin cuFFT when one has already been registered\n",
      "WARNING: All log messages before absl::InitializeLog() is called are written to STDERR\n",
      "E0000 00:00:1731269762.327238      96 cuda_dnn.cc:8310] Unable to register cuDNN factory: Attempting to register factory for plugin cuDNN when one has already been registered\n",
      "E0000 00:00:1731269762.355013      96 cuda_blas.cc:1418] Unable to register cuBLAS factory: Attempting to register factory for plugin cuBLAS when one has already been registered\n",
      "2024-11-11 01:46:02.606812: I tensorflow/core/platform/cpu_feature_guard.cc:210] This TensorFlow binary is optimized to use available CPU instructions in performance-critical operations.\n",
      "To enable the following instructions: AVX2 FMA, in other operations, rebuild TensorFlow with the appropriate compiler flags.\n"
     ]
    }
   ],
   "source": [
    "import tensorflow as tf\n",
    "try: [tf.config.experimental.set_memory_growth(gpu, True) for gpu in tf.config.experimental.list_physical_devices(\"GPU\")]\n",
    "except: pass\n",
    "\n",
    "from keras.callbacks import EarlyStopping, ModelCheckpoint, ReduceLROnPlateau, TensorBoard\n",
    "\n",
    "from mltu.preprocessors import ImageReader\n",
    "from mltu.transformers import ImageResizer, LabelIndexer, LabelPadding, ImageShowCV2\n",
    "from mltu.augmentors import RandomBrightness, RandomRotate, RandomErodeDilate, RandomSharpen\n",
    "from mltu.annotations.images import CVImage\n",
    "\n",
    "from mltu.tensorflow.dataProvider import DataProvider\n",
    "from mltu.tensorflow.losses import CTCloss\n",
    "from mltu.tensorflow.callbacks import Model2onnx, TrainLogger\n",
    "from mltu.tensorflow.metrics import CWERMetric\n",
    "\n",
    "import os\n",
    "import tarfile\n",
    "from tqdm import tqdm\n",
    "from urllib.request import urlopen\n",
    "from io import BytesIO\n",
    "from zipfile import ZipFile"
   ]
  },
  {
   "cell_type": "code",
   "execution_count": 2,
   "id": "285952ff-1600-4a08-bc69-aafb860d99db",
   "metadata": {},
   "outputs": [],
   "source": [
    "from datetime import datetime\n",
    "\n",
    "from mltu.configs import BaseModelConfigs\n",
    "\n",
    "class ModelConfigs(BaseModelConfigs):\n",
    "    def __init__(self):\n",
    "        super().__init__()\n",
    "        self.model_path = os.path.join(\"Models/LSTM\", datetime.strftime(datetime.now(), \"%Y%m%d%H%M\"))\n",
    "        self.vocab = \"\"\n",
    "        self.height = 32\n",
    "        self.width = 128\n",
    "        self.max_text_length = 0\n",
    "        self.batch_size = 16\n",
    "        self.learning_rate = 0.001\n",
    "        self.train_epochs = 30\n",
    "        self.train_workers = 20"
   ]
  },
  {
   "cell_type": "code",
   "execution_count": 3,
   "id": "98cc8dd0-97c1-4497-a002-356b70dae780",
   "metadata": {},
   "outputs": [],
   "source": [
    "from keras import layers\n",
    "from keras.models import Model\n",
    "\n",
    "def train_model(input_dim, output_dim, activation=\"leaky_relu\", dropout=0.2):\n",
    "    \n",
    "    inputs = layers.Input(shape=input_dim, name=\"input\")\n",
    "\n",
    "    # Normalize images here instead of preprocessing step\n",
    "    x = layers.Lambda(lambda x: x / 255)(inputs)\n",
    "\n",
    "    x = layers.Conv2D(16, (3, 3), activation=activation, padding=\"same\", strides=1)(x)\n",
    "    x = layers.Dropout(dropout)(x)\n",
    "    x = layers.Conv2D(16, (3, 3), activation=activation, padding=\"same\", strides=2)(x)\n",
    "    x = layers.Dropout(dropout)(x)\n",
    "\n",
    "    x = layers.Conv2D(32, (3, 3), activation=activation, padding=\"same\", strides=2)(x)\n",
    "    x = layers.Dropout(dropout)(x)\n",
    "\n",
    "    x = layers.Conv2D(64, (3, 3), activation=activation, padding=\"same\", strides=2)(x)\n",
    "    x = layers.Dropout(dropout)(x)\n",
    "    x = layers.Conv2D(64, (3, 3), activation=activation, padding=\"same\", strides=1)(x)\n",
    "    x = layers.Dropout(dropout)(x)\n",
    "\n",
    "    x = layers.Conv2D(64, (3, 3), activation=activation, padding=\"same\", strides=1)(x)\n",
    "    x = layers.Dropout(dropout)(x)\n",
    "\n",
    "    # Reshape the output for LSTM layers\n",
    "    squeezed = layers.Reshape((x.shape[-3] * x.shape[-2], x.shape[-1]))(x)\n",
    "\n",
    "    lstm = layers.LSTM(128, return_sequences=True)(squeezed)\n",
    "    lstm = layers.Dropout(dropout)(lstm)\n",
    "\n",
    "    output = layers.Dense(output_dim + 1, activation=\"softmax\", name=\"output\")(lstm)\n",
    "\n",
    "    model = Model(inputs=inputs, outputs=output)\n",
    "    return model"
   ]
  },
  {
   "cell_type": "code",
   "execution_count": 4,
   "id": "a0b5a605-601c-4b20-a18d-425563aad627",
   "metadata": {},
   "outputs": [],
   "source": [
    "def download_and_unzip(url, extract_to=\"Datasets\", chunk_size=1024*1024):\n",
    "    http_response = urlopen(url)\n",
    "\n",
    "    data = b\"\"\n",
    "    iterations = http_response.length // chunk_size + 1\n",
    "    for _ in tqdm(range(iterations)):\n",
    "        data += http_response.read(chunk_size)\n",
    "\n",
    "    zipfile = ZipFile(BytesIO(data))\n",
    "    zipfile.extractall(path=extract_to)\n",
    "\n",
    "dataset_path = os.path.join(\"Datasets\", \"IAM_Words\")\n",
    "if not os.path.exists(dataset_path):\n",
    "    download_and_unzip(\"https://git.io/J0fjL\", extract_to=\"Datasets\")\n",
    "\n",
    "    file = tarfile.open(os.path.join(dataset_path, \"words.tgz\"))\n",
    "    file.extractall(os.path.join(dataset_path, \"words\"))\n",
    "\n",
    "dataset, vocab, max_len = [], set(), 0"
   ]
  },
  {
   "cell_type": "code",
   "execution_count": 5,
   "id": "1f00503f-d54c-4076-ab7f-7f93f4184a67",
   "metadata": {},
   "outputs": [
    {
     "name": "stderr",
     "output_type": "stream",
     "text": [
      "100%|██████████████████████████████████████████████████████████████████████████| 115338/115338 [02:48<00:00, 684.13it/s]\n"
     ]
    }
   ],
   "source": [
    "# Preprocess the dataset by the specific IAM_Words dataset file structure\n",
    "words = open(os.path.join(dataset_path, \"words.txt\"), \"r\").readlines()\n",
    "for line in tqdm(words):\n",
    "    if line.startswith(\"#\"):\n",
    "        continue\n",
    "\n",
    "    line_split = line.split(\" \")\n",
    "    if line_split[1] == \"err\":\n",
    "        continue\n",
    "\n",
    "    folder1 = line_split[0][:3]\n",
    "    folder2 = \"-\".join(line_split[0].split(\"-\")[:2])\n",
    "    file_name = line_split[0] + \".png\"\n",
    "    label = line_split[-1].rstrip(\"\\n\")\n",
    "\n",
    "    rel_path = os.path.join(dataset_path, \"words\", folder1, folder2, file_name)\n",
    "    if not os.path.exists(rel_path):\n",
    "        print(f\"File not found: {rel_path}\")\n",
    "        continue\n",
    "\n",
    "    dataset.append([rel_path, label])\n",
    "    vocab.update(list(label))\n",
    "    max_len = max(max_len, len(label))"
   ]
  },
  {
   "cell_type": "code",
   "execution_count": 6,
   "id": "6301e80b-b3db-48af-b81f-b99e2ada1528",
   "metadata": {},
   "outputs": [],
   "source": [
    "# Create a ModelConfigs object to store model configurations\n",
    "configs = ModelConfigs()\n",
    "\n",
    "# Save vocab and maximum text length to configs\n",
    "configs.vocab = \"\".join(vocab)\n",
    "configs.max_text_length = max_len\n",
    "configs.save()\n",
    "\n",
    "# Create a data provider for the dataset\n",
    "data_provider = DataProvider(\n",
    "    dataset=dataset,\n",
    "    skip_validation=True,\n",
    "    batch_size=configs.batch_size,\n",
    "    data_preprocessors=[ImageReader(CVImage)],\n",
    "    transformers=[\n",
    "        ImageResizer(configs.width, configs.height, keep_aspect_ratio=False),\n",
    "        LabelIndexer(configs.vocab),\n",
    "        LabelPadding(max_word_length=configs.max_text_length, padding_value=len(configs.vocab)),\n",
    "        ],\n",
    ")"
   ]
  },
  {
   "cell_type": "code",
   "execution_count": 7,
   "id": "647f70b3-817a-4fcd-941a-57c356d0eb46",
   "metadata": {},
   "outputs": [],
   "source": [
    "# Split the dataset into training and validation sets\n",
    "train_data_provider_1, val_data_provider_1 = data_provider.split(split = 0.6)\n",
    "train_data_provider, val_data_provider = val_data_provider_1.split(split = 0.85)"
   ]
  },
  {
   "cell_type": "code",
   "execution_count": 8,
   "id": "2f34239f-222b-464d-8733-88757582c207",
   "metadata": {},
   "outputs": [],
   "source": [
    "# Augment training data with random brightness, rotation and erode/dilate\n",
    "train_data_provider.augmentors = [\n",
    "    RandomBrightness(), \n",
    "    RandomErodeDilate(),\n",
    "    RandomSharpen(),\n",
    "    RandomRotate(angle=10), \n",
    "    ]"
   ]
  },
  {
   "cell_type": "code",
   "execution_count": 9,
   "id": "ee922e97-af4f-46b9-b970-7da4b5d52cbc",
   "metadata": {},
   "outputs": [
    {
     "name": "stderr",
     "output_type": "stream",
     "text": [
      "I0000 00:00:1731269991.797696      96 gpu_device.cc:2022] Created device /job:localhost/replica:0/task:0/device:GPU:0 with 4080 MB memory:  -> device: 0, name: NVIDIA GeForce GTX 1660 Ti, pci bus id: 0000:01:00.0, compute capability: 7.5\n"
     ]
    }
   ],
   "source": [
    "# Creating TensorFlow model architecture\n",
    "model = train_model(\n",
    "    input_dim = (configs.height, configs.width, 3),\n",
    "    output_dim = len(configs.vocab),\n",
    ")"
   ]
  },
  {
   "cell_type": "code",
   "execution_count": 10,
   "id": "28db51a5-91f8-4887-9653-92b88d223b26",
   "metadata": {},
   "outputs": [
    {
     "data": {
      "text/html": [
       "<pre style=\"white-space:pre;overflow-x:auto;line-height:normal;font-family:Menlo,'DejaVu Sans Mono',consolas,'Courier New',monospace\"><span style=\"font-weight: bold\">Model: \"functional\"</span>\n",
       "</pre>\n"
      ],
      "text/plain": [
       "\u001b[1mModel: \"functional\"\u001b[0m\n"
      ]
     },
     "metadata": {},
     "output_type": "display_data"
    },
    {
     "data": {
      "text/html": [
       "<pre style=\"white-space:pre;overflow-x:auto;line-height:normal;font-family:Menlo,'DejaVu Sans Mono',consolas,'Courier New',monospace\">┏━━━━━━━━━━━━━━━━━━━━━━━━━━━━━━━━━━━━━━━━━━━━━━━━┳━━━━━━━━━━━━━━━━━━━━━━━━━━━━━━━━━━━━━┳━━━━━━━━━━━━━━━━━━━━━┓\n",
       "┃<span style=\"font-weight: bold\"> Layer (type)                                   </span>┃<span style=\"font-weight: bold\"> Output Shape                        </span>┃<span style=\"font-weight: bold\">             Param # </span>┃\n",
       "┡━━━━━━━━━━━━━━━━━━━━━━━━━━━━━━━━━━━━━━━━━━━━━━━━╇━━━━━━━━━━━━━━━━━━━━━━━━━━━━━━━━━━━━━╇━━━━━━━━━━━━━━━━━━━━━┩\n",
       "│ input (<span style=\"color: #0087ff; text-decoration-color: #0087ff\">InputLayer</span>)                             │ (<span style=\"color: #00d7ff; text-decoration-color: #00d7ff\">None</span>, <span style=\"color: #00af00; text-decoration-color: #00af00\">32</span>, <span style=\"color: #00af00; text-decoration-color: #00af00\">128</span>, <span style=\"color: #00af00; text-decoration-color: #00af00\">3</span>)                  │                   <span style=\"color: #00af00; text-decoration-color: #00af00\">0</span> │\n",
       "├────────────────────────────────────────────────┼─────────────────────────────────────┼─────────────────────┤\n",
       "│ lambda (<span style=\"color: #0087ff; text-decoration-color: #0087ff\">Lambda</span>)                                │ (<span style=\"color: #00d7ff; text-decoration-color: #00d7ff\">None</span>, <span style=\"color: #00af00; text-decoration-color: #00af00\">32</span>, <span style=\"color: #00af00; text-decoration-color: #00af00\">128</span>, <span style=\"color: #00af00; text-decoration-color: #00af00\">3</span>)                  │                   <span style=\"color: #00af00; text-decoration-color: #00af00\">0</span> │\n",
       "├────────────────────────────────────────────────┼─────────────────────────────────────┼─────────────────────┤\n",
       "│ conv2d (<span style=\"color: #0087ff; text-decoration-color: #0087ff\">Conv2D</span>)                                │ (<span style=\"color: #00d7ff; text-decoration-color: #00d7ff\">None</span>, <span style=\"color: #00af00; text-decoration-color: #00af00\">32</span>, <span style=\"color: #00af00; text-decoration-color: #00af00\">128</span>, <span style=\"color: #00af00; text-decoration-color: #00af00\">16</span>)                 │                 <span style=\"color: #00af00; text-decoration-color: #00af00\">448</span> │\n",
       "├────────────────────────────────────────────────┼─────────────────────────────────────┼─────────────────────┤\n",
       "│ dropout (<span style=\"color: #0087ff; text-decoration-color: #0087ff\">Dropout</span>)                              │ (<span style=\"color: #00d7ff; text-decoration-color: #00d7ff\">None</span>, <span style=\"color: #00af00; text-decoration-color: #00af00\">32</span>, <span style=\"color: #00af00; text-decoration-color: #00af00\">128</span>, <span style=\"color: #00af00; text-decoration-color: #00af00\">16</span>)                 │                   <span style=\"color: #00af00; text-decoration-color: #00af00\">0</span> │\n",
       "├────────────────────────────────────────────────┼─────────────────────────────────────┼─────────────────────┤\n",
       "│ conv2d_1 (<span style=\"color: #0087ff; text-decoration-color: #0087ff\">Conv2D</span>)                              │ (<span style=\"color: #00d7ff; text-decoration-color: #00d7ff\">None</span>, <span style=\"color: #00af00; text-decoration-color: #00af00\">16</span>, <span style=\"color: #00af00; text-decoration-color: #00af00\">64</span>, <span style=\"color: #00af00; text-decoration-color: #00af00\">16</span>)                  │               <span style=\"color: #00af00; text-decoration-color: #00af00\">2,320</span> │\n",
       "├────────────────────────────────────────────────┼─────────────────────────────────────┼─────────────────────┤\n",
       "│ dropout_1 (<span style=\"color: #0087ff; text-decoration-color: #0087ff\">Dropout</span>)                            │ (<span style=\"color: #00d7ff; text-decoration-color: #00d7ff\">None</span>, <span style=\"color: #00af00; text-decoration-color: #00af00\">16</span>, <span style=\"color: #00af00; text-decoration-color: #00af00\">64</span>, <span style=\"color: #00af00; text-decoration-color: #00af00\">16</span>)                  │                   <span style=\"color: #00af00; text-decoration-color: #00af00\">0</span> │\n",
       "├────────────────────────────────────────────────┼─────────────────────────────────────┼─────────────────────┤\n",
       "│ conv2d_2 (<span style=\"color: #0087ff; text-decoration-color: #0087ff\">Conv2D</span>)                              │ (<span style=\"color: #00d7ff; text-decoration-color: #00d7ff\">None</span>, <span style=\"color: #00af00; text-decoration-color: #00af00\">8</span>, <span style=\"color: #00af00; text-decoration-color: #00af00\">32</span>, <span style=\"color: #00af00; text-decoration-color: #00af00\">32</span>)                   │               <span style=\"color: #00af00; text-decoration-color: #00af00\">4,640</span> │\n",
       "├────────────────────────────────────────────────┼─────────────────────────────────────┼─────────────────────┤\n",
       "│ dropout_2 (<span style=\"color: #0087ff; text-decoration-color: #0087ff\">Dropout</span>)                            │ (<span style=\"color: #00d7ff; text-decoration-color: #00d7ff\">None</span>, <span style=\"color: #00af00; text-decoration-color: #00af00\">8</span>, <span style=\"color: #00af00; text-decoration-color: #00af00\">32</span>, <span style=\"color: #00af00; text-decoration-color: #00af00\">32</span>)                   │                   <span style=\"color: #00af00; text-decoration-color: #00af00\">0</span> │\n",
       "├────────────────────────────────────────────────┼─────────────────────────────────────┼─────────────────────┤\n",
       "│ conv2d_3 (<span style=\"color: #0087ff; text-decoration-color: #0087ff\">Conv2D</span>)                              │ (<span style=\"color: #00d7ff; text-decoration-color: #00d7ff\">None</span>, <span style=\"color: #00af00; text-decoration-color: #00af00\">4</span>, <span style=\"color: #00af00; text-decoration-color: #00af00\">16</span>, <span style=\"color: #00af00; text-decoration-color: #00af00\">64</span>)                   │              <span style=\"color: #00af00; text-decoration-color: #00af00\">18,496</span> │\n",
       "├────────────────────────────────────────────────┼─────────────────────────────────────┼─────────────────────┤\n",
       "│ dropout_3 (<span style=\"color: #0087ff; text-decoration-color: #0087ff\">Dropout</span>)                            │ (<span style=\"color: #00d7ff; text-decoration-color: #00d7ff\">None</span>, <span style=\"color: #00af00; text-decoration-color: #00af00\">4</span>, <span style=\"color: #00af00; text-decoration-color: #00af00\">16</span>, <span style=\"color: #00af00; text-decoration-color: #00af00\">64</span>)                   │                   <span style=\"color: #00af00; text-decoration-color: #00af00\">0</span> │\n",
       "├────────────────────────────────────────────────┼─────────────────────────────────────┼─────────────────────┤\n",
       "│ conv2d_4 (<span style=\"color: #0087ff; text-decoration-color: #0087ff\">Conv2D</span>)                              │ (<span style=\"color: #00d7ff; text-decoration-color: #00d7ff\">None</span>, <span style=\"color: #00af00; text-decoration-color: #00af00\">4</span>, <span style=\"color: #00af00; text-decoration-color: #00af00\">16</span>, <span style=\"color: #00af00; text-decoration-color: #00af00\">64</span>)                   │              <span style=\"color: #00af00; text-decoration-color: #00af00\">36,928</span> │\n",
       "├────────────────────────────────────────────────┼─────────────────────────────────────┼─────────────────────┤\n",
       "│ dropout_4 (<span style=\"color: #0087ff; text-decoration-color: #0087ff\">Dropout</span>)                            │ (<span style=\"color: #00d7ff; text-decoration-color: #00d7ff\">None</span>, <span style=\"color: #00af00; text-decoration-color: #00af00\">4</span>, <span style=\"color: #00af00; text-decoration-color: #00af00\">16</span>, <span style=\"color: #00af00; text-decoration-color: #00af00\">64</span>)                   │                   <span style=\"color: #00af00; text-decoration-color: #00af00\">0</span> │\n",
       "├────────────────────────────────────────────────┼─────────────────────────────────────┼─────────────────────┤\n",
       "│ conv2d_5 (<span style=\"color: #0087ff; text-decoration-color: #0087ff\">Conv2D</span>)                              │ (<span style=\"color: #00d7ff; text-decoration-color: #00d7ff\">None</span>, <span style=\"color: #00af00; text-decoration-color: #00af00\">4</span>, <span style=\"color: #00af00; text-decoration-color: #00af00\">16</span>, <span style=\"color: #00af00; text-decoration-color: #00af00\">64</span>)                   │              <span style=\"color: #00af00; text-decoration-color: #00af00\">36,928</span> │\n",
       "├────────────────────────────────────────────────┼─────────────────────────────────────┼─────────────────────┤\n",
       "│ dropout_5 (<span style=\"color: #0087ff; text-decoration-color: #0087ff\">Dropout</span>)                            │ (<span style=\"color: #00d7ff; text-decoration-color: #00d7ff\">None</span>, <span style=\"color: #00af00; text-decoration-color: #00af00\">4</span>, <span style=\"color: #00af00; text-decoration-color: #00af00\">16</span>, <span style=\"color: #00af00; text-decoration-color: #00af00\">64</span>)                   │                   <span style=\"color: #00af00; text-decoration-color: #00af00\">0</span> │\n",
       "├────────────────────────────────────────────────┼─────────────────────────────────────┼─────────────────────┤\n",
       "│ reshape (<span style=\"color: #0087ff; text-decoration-color: #0087ff\">Reshape</span>)                              │ (<span style=\"color: #00d7ff; text-decoration-color: #00d7ff\">None</span>, <span style=\"color: #00af00; text-decoration-color: #00af00\">64</span>, <span style=\"color: #00af00; text-decoration-color: #00af00\">64</span>)                      │                   <span style=\"color: #00af00; text-decoration-color: #00af00\">0</span> │\n",
       "├────────────────────────────────────────────────┼─────────────────────────────────────┼─────────────────────┤\n",
       "│ lstm (<span style=\"color: #0087ff; text-decoration-color: #0087ff\">LSTM</span>)                                    │ (<span style=\"color: #00d7ff; text-decoration-color: #00d7ff\">None</span>, <span style=\"color: #00af00; text-decoration-color: #00af00\">64</span>, <span style=\"color: #00af00; text-decoration-color: #00af00\">128</span>)                     │              <span style=\"color: #00af00; text-decoration-color: #00af00\">98,816</span> │\n",
       "├────────────────────────────────────────────────┼─────────────────────────────────────┼─────────────────────┤\n",
       "│ dropout_6 (<span style=\"color: #0087ff; text-decoration-color: #0087ff\">Dropout</span>)                            │ (<span style=\"color: #00d7ff; text-decoration-color: #00d7ff\">None</span>, <span style=\"color: #00af00; text-decoration-color: #00af00\">64</span>, <span style=\"color: #00af00; text-decoration-color: #00af00\">128</span>)                     │                   <span style=\"color: #00af00; text-decoration-color: #00af00\">0</span> │\n",
       "├────────────────────────────────────────────────┼─────────────────────────────────────┼─────────────────────┤\n",
       "│ output (<span style=\"color: #0087ff; text-decoration-color: #0087ff\">Dense</span>)                                 │ (<span style=\"color: #00d7ff; text-decoration-color: #00d7ff\">None</span>, <span style=\"color: #00af00; text-decoration-color: #00af00\">64</span>, <span style=\"color: #00af00; text-decoration-color: #00af00\">79</span>)                      │              <span style=\"color: #00af00; text-decoration-color: #00af00\">10,191</span> │\n",
       "└────────────────────────────────────────────────┴─────────────────────────────────────┴─────────────────────┘\n",
       "</pre>\n"
      ],
      "text/plain": [
       "┏━━━━━━━━━━━━━━━━━━━━━━━━━━━━━━━━━━━━━━━━━━━━━━━━┳━━━━━━━━━━━━━━━━━━━━━━━━━━━━━━━━━━━━━┳━━━━━━━━━━━━━━━━━━━━━┓\n",
       "┃\u001b[1m \u001b[0m\u001b[1mLayer (type)                                  \u001b[0m\u001b[1m \u001b[0m┃\u001b[1m \u001b[0m\u001b[1mOutput Shape                       \u001b[0m\u001b[1m \u001b[0m┃\u001b[1m \u001b[0m\u001b[1m            Param #\u001b[0m\u001b[1m \u001b[0m┃\n",
       "┡━━━━━━━━━━━━━━━━━━━━━━━━━━━━━━━━━━━━━━━━━━━━━━━━╇━━━━━━━━━━━━━━━━━━━━━━━━━━━━━━━━━━━━━╇━━━━━━━━━━━━━━━━━━━━━┩\n",
       "│ input (\u001b[38;5;33mInputLayer\u001b[0m)                             │ (\u001b[38;5;45mNone\u001b[0m, \u001b[38;5;34m32\u001b[0m, \u001b[38;5;34m128\u001b[0m, \u001b[38;5;34m3\u001b[0m)                  │                   \u001b[38;5;34m0\u001b[0m │\n",
       "├────────────────────────────────────────────────┼─────────────────────────────────────┼─────────────────────┤\n",
       "│ lambda (\u001b[38;5;33mLambda\u001b[0m)                                │ (\u001b[38;5;45mNone\u001b[0m, \u001b[38;5;34m32\u001b[0m, \u001b[38;5;34m128\u001b[0m, \u001b[38;5;34m3\u001b[0m)                  │                   \u001b[38;5;34m0\u001b[0m │\n",
       "├────────────────────────────────────────────────┼─────────────────────────────────────┼─────────────────────┤\n",
       "│ conv2d (\u001b[38;5;33mConv2D\u001b[0m)                                │ (\u001b[38;5;45mNone\u001b[0m, \u001b[38;5;34m32\u001b[0m, \u001b[38;5;34m128\u001b[0m, \u001b[38;5;34m16\u001b[0m)                 │                 \u001b[38;5;34m448\u001b[0m │\n",
       "├────────────────────────────────────────────────┼─────────────────────────────────────┼─────────────────────┤\n",
       "│ dropout (\u001b[38;5;33mDropout\u001b[0m)                              │ (\u001b[38;5;45mNone\u001b[0m, \u001b[38;5;34m32\u001b[0m, \u001b[38;5;34m128\u001b[0m, \u001b[38;5;34m16\u001b[0m)                 │                   \u001b[38;5;34m0\u001b[0m │\n",
       "├────────────────────────────────────────────────┼─────────────────────────────────────┼─────────────────────┤\n",
       "│ conv2d_1 (\u001b[38;5;33mConv2D\u001b[0m)                              │ (\u001b[38;5;45mNone\u001b[0m, \u001b[38;5;34m16\u001b[0m, \u001b[38;5;34m64\u001b[0m, \u001b[38;5;34m16\u001b[0m)                  │               \u001b[38;5;34m2,320\u001b[0m │\n",
       "├────────────────────────────────────────────────┼─────────────────────────────────────┼─────────────────────┤\n",
       "│ dropout_1 (\u001b[38;5;33mDropout\u001b[0m)                            │ (\u001b[38;5;45mNone\u001b[0m, \u001b[38;5;34m16\u001b[0m, \u001b[38;5;34m64\u001b[0m, \u001b[38;5;34m16\u001b[0m)                  │                   \u001b[38;5;34m0\u001b[0m │\n",
       "├────────────────────────────────────────────────┼─────────────────────────────────────┼─────────────────────┤\n",
       "│ conv2d_2 (\u001b[38;5;33mConv2D\u001b[0m)                              │ (\u001b[38;5;45mNone\u001b[0m, \u001b[38;5;34m8\u001b[0m, \u001b[38;5;34m32\u001b[0m, \u001b[38;5;34m32\u001b[0m)                   │               \u001b[38;5;34m4,640\u001b[0m │\n",
       "├────────────────────────────────────────────────┼─────────────────────────────────────┼─────────────────────┤\n",
       "│ dropout_2 (\u001b[38;5;33mDropout\u001b[0m)                            │ (\u001b[38;5;45mNone\u001b[0m, \u001b[38;5;34m8\u001b[0m, \u001b[38;5;34m32\u001b[0m, \u001b[38;5;34m32\u001b[0m)                   │                   \u001b[38;5;34m0\u001b[0m │\n",
       "├────────────────────────────────────────────────┼─────────────────────────────────────┼─────────────────────┤\n",
       "│ conv2d_3 (\u001b[38;5;33mConv2D\u001b[0m)                              │ (\u001b[38;5;45mNone\u001b[0m, \u001b[38;5;34m4\u001b[0m, \u001b[38;5;34m16\u001b[0m, \u001b[38;5;34m64\u001b[0m)                   │              \u001b[38;5;34m18,496\u001b[0m │\n",
       "├────────────────────────────────────────────────┼─────────────────────────────────────┼─────────────────────┤\n",
       "│ dropout_3 (\u001b[38;5;33mDropout\u001b[0m)                            │ (\u001b[38;5;45mNone\u001b[0m, \u001b[38;5;34m4\u001b[0m, \u001b[38;5;34m16\u001b[0m, \u001b[38;5;34m64\u001b[0m)                   │                   \u001b[38;5;34m0\u001b[0m │\n",
       "├────────────────────────────────────────────────┼─────────────────────────────────────┼─────────────────────┤\n",
       "│ conv2d_4 (\u001b[38;5;33mConv2D\u001b[0m)                              │ (\u001b[38;5;45mNone\u001b[0m, \u001b[38;5;34m4\u001b[0m, \u001b[38;5;34m16\u001b[0m, \u001b[38;5;34m64\u001b[0m)                   │              \u001b[38;5;34m36,928\u001b[0m │\n",
       "├────────────────────────────────────────────────┼─────────────────────────────────────┼─────────────────────┤\n",
       "│ dropout_4 (\u001b[38;5;33mDropout\u001b[0m)                            │ (\u001b[38;5;45mNone\u001b[0m, \u001b[38;5;34m4\u001b[0m, \u001b[38;5;34m16\u001b[0m, \u001b[38;5;34m64\u001b[0m)                   │                   \u001b[38;5;34m0\u001b[0m │\n",
       "├────────────────────────────────────────────────┼─────────────────────────────────────┼─────────────────────┤\n",
       "│ conv2d_5 (\u001b[38;5;33mConv2D\u001b[0m)                              │ (\u001b[38;5;45mNone\u001b[0m, \u001b[38;5;34m4\u001b[0m, \u001b[38;5;34m16\u001b[0m, \u001b[38;5;34m64\u001b[0m)                   │              \u001b[38;5;34m36,928\u001b[0m │\n",
       "├────────────────────────────────────────────────┼─────────────────────────────────────┼─────────────────────┤\n",
       "│ dropout_5 (\u001b[38;5;33mDropout\u001b[0m)                            │ (\u001b[38;5;45mNone\u001b[0m, \u001b[38;5;34m4\u001b[0m, \u001b[38;5;34m16\u001b[0m, \u001b[38;5;34m64\u001b[0m)                   │                   \u001b[38;5;34m0\u001b[0m │\n",
       "├────────────────────────────────────────────────┼─────────────────────────────────────┼─────────────────────┤\n",
       "│ reshape (\u001b[38;5;33mReshape\u001b[0m)                              │ (\u001b[38;5;45mNone\u001b[0m, \u001b[38;5;34m64\u001b[0m, \u001b[38;5;34m64\u001b[0m)                      │                   \u001b[38;5;34m0\u001b[0m │\n",
       "├────────────────────────────────────────────────┼─────────────────────────────────────┼─────────────────────┤\n",
       "│ lstm (\u001b[38;5;33mLSTM\u001b[0m)                                    │ (\u001b[38;5;45mNone\u001b[0m, \u001b[38;5;34m64\u001b[0m, \u001b[38;5;34m128\u001b[0m)                     │              \u001b[38;5;34m98,816\u001b[0m │\n",
       "├────────────────────────────────────────────────┼─────────────────────────────────────┼─────────────────────┤\n",
       "│ dropout_6 (\u001b[38;5;33mDropout\u001b[0m)                            │ (\u001b[38;5;45mNone\u001b[0m, \u001b[38;5;34m64\u001b[0m, \u001b[38;5;34m128\u001b[0m)                     │                   \u001b[38;5;34m0\u001b[0m │\n",
       "├────────────────────────────────────────────────┼─────────────────────────────────────┼─────────────────────┤\n",
       "│ output (\u001b[38;5;33mDense\u001b[0m)                                 │ (\u001b[38;5;45mNone\u001b[0m, \u001b[38;5;34m64\u001b[0m, \u001b[38;5;34m79\u001b[0m)                      │              \u001b[38;5;34m10,191\u001b[0m │\n",
       "└────────────────────────────────────────────────┴─────────────────────────────────────┴─────────────────────┘\n"
      ]
     },
     "metadata": {},
     "output_type": "display_data"
    },
    {
     "data": {
      "text/html": [
       "<pre style=\"white-space:pre;overflow-x:auto;line-height:normal;font-family:Menlo,'DejaVu Sans Mono',consolas,'Courier New',monospace\"><span style=\"font-weight: bold\"> Total params: </span><span style=\"color: #00af00; text-decoration-color: #00af00\">208,767</span> (815.50 KB)\n",
       "</pre>\n"
      ],
      "text/plain": [
       "\u001b[1m Total params: \u001b[0m\u001b[38;5;34m208,767\u001b[0m (815.50 KB)\n"
      ]
     },
     "metadata": {},
     "output_type": "display_data"
    },
    {
     "data": {
      "text/html": [
       "<pre style=\"white-space:pre;overflow-x:auto;line-height:normal;font-family:Menlo,'DejaVu Sans Mono',consolas,'Courier New',monospace\"><span style=\"font-weight: bold\"> Trainable params: </span><span style=\"color: #00af00; text-decoration-color: #00af00\">208,767</span> (815.50 KB)\n",
       "</pre>\n"
      ],
      "text/plain": [
       "\u001b[1m Trainable params: \u001b[0m\u001b[38;5;34m208,767\u001b[0m (815.50 KB)\n"
      ]
     },
     "metadata": {},
     "output_type": "display_data"
    },
    {
     "data": {
      "text/html": [
       "<pre style=\"white-space:pre;overflow-x:auto;line-height:normal;font-family:Menlo,'DejaVu Sans Mono',consolas,'Courier New',monospace\"><span style=\"font-weight: bold\"> Non-trainable params: </span><span style=\"color: #00af00; text-decoration-color: #00af00\">0</span> (0.00 B)\n",
       "</pre>\n"
      ],
      "text/plain": [
       "\u001b[1m Non-trainable params: \u001b[0m\u001b[38;5;34m0\u001b[0m (0.00 B)\n"
      ]
     },
     "metadata": {},
     "output_type": "display_data"
    },
    {
     "name": "stdout",
     "output_type": "stream",
     "text": [
      "Available Metrics: ['loss', 'compile_metrics']\n"
     ]
    }
   ],
   "source": [
    "# Compile the model and print summary\n",
    "model.compile(\n",
    "    optimizer=tf.keras.optimizers.Adam(learning_rate=configs.learning_rate), \n",
    "    loss=CTCloss(), \n",
    "    metrics=[CWERMetric(padding_token=len(configs.vocab))],\n",
    ")\n",
    "model.summary(line_length=110)\n",
    "\n",
    "# Print all available metrics\n",
    "print(\"Available Metrics:\", model.metrics_names)"
   ]
  },
  {
   "cell_type": "code",
   "execution_count": 14,
   "id": "837d7227-5925-425f-9547-efc8edc7bfa4",
   "metadata": {},
   "outputs": [],
   "source": [
    "import matplotlib.pyplot as plt\n",
    "from keras.callbacks import Callback\n",
    "\n",
    "class TrainingPlotCallback(Callback):\n",
    "    def on_train_begin(self, logs=None):\n",
    "        self.loss = []\n",
    "        self.cer = []\n",
    "        self.wer = []\n",
    "        self.val_loss = []\n",
    "        self.val_cer = []\n",
    "        self.val_wer = []\n",
    "        \n",
    "    def on_epoch_end(self, epoch, logs=None):\n",
    "        self.loss.append(logs.get('loss'))\n",
    "        self.cer.append(logs.get('CER'))\n",
    "        self.wer.append(logs.get('WER'))\n",
    "        self.val_loss.append(logs.get('val_loss'))\n",
    "        self.val_cer.append(logs.get('val_CER'))\n",
    "        self.val_wer.append(logs.get('val_WER'))\n",
    "        \n",
    "    def on_train_end(self, logs=None):\n",
    "        epochs = range(1, len(self.loss) + 1)\n",
    "\n",
    "        # Plotting training and validation loss\n",
    "        plt.figure(figsize=(12, 4))\n",
    "        plt.subplot(1, 3, 1)\n",
    "        plt.plot(epochs, self.loss, 'b-', label='Training Loss')\n",
    "        plt.plot(epochs, self.val_loss, 'r-', label='Validation Loss')\n",
    "        plt.title('Loss')\n",
    "        plt.xlabel('Epochs')\n",
    "        plt.ylabel('Loss')\n",
    "        plt.legend()\n",
    "\n",
    "        # Plotting CER\n",
    "        plt.subplot(1, 3, 2)\n",
    "        plt.plot(epochs, self.cer, 'b-', label='Training CER')\n",
    "        plt.plot(epochs, self.val_cer, 'r-', label='Validation CER')\n",
    "        plt.title('Character Error Rate (CER)')\n",
    "        plt.xlabel('Epochs')\n",
    "        plt.ylabel('CER')\n",
    "        plt.legend()\n",
    "\n",
    "        # Plotting WER\n",
    "        plt.subplot(1, 3, 3)\n",
    "        plt.plot(epochs, self.wer, 'b-', label='Training WER')\n",
    "        plt.plot(epochs, self.val_wer, 'r-', label='Validation WER')\n",
    "        plt.title('Word Error Rate (WER)')\n",
    "        plt.xlabel('Epochs')\n",
    "        plt.ylabel('WER')\n",
    "        plt.legend()\n",
    "\n",
    "        plt.tight_layout()\n",
    "        plt.show()"
   ]
  },
  {
   "cell_type": "code",
   "execution_count": 15,
   "id": "31c36e58-2736-43b1-94a2-f177691af28a",
   "metadata": {},
   "outputs": [],
   "source": [
    "# Define callbacks\n",
    "earlystopper = EarlyStopping(monitor=\"val_CER\", patience=20, verbose=1, mode = 'min')\n",
    "checkpoint = ModelCheckpoint(f\"{configs.model_path}/model.keras\", monitor=\"val_CER\", verbose=1, save_best_only=True, mode=\"min\")\n",
    "trainLogger = TrainLogger(configs.model_path)\n",
    "\n",
    "tb_callback = TensorBoard(f\"{configs.model_path}/logs\", update_freq=1)\n",
    "reduceLROnPlat = ReduceLROnPlateau(monitor=\"val_CER\", factor=0.9, min_delta=1e-10, patience=10, verbose=1, mode=\"auto\")\n",
    "model2onnx = Model2onnx(f\"{configs.model_path}/model.keras\")\n",
    "training_plot_callback = TrainingPlotCallback()"
   ]
  },
  {
   "cell_type": "code",
   "execution_count": 16,
   "id": "1770467f-51af-4939-920c-ba8baa54ee78",
   "metadata": {},
   "outputs": [
    {
     "name": "stdout",
     "output_type": "stream",
     "text": [
      "Epoch 1/30\n",
      "\u001b[1m2050/2050\u001b[0m \u001b[32m━━━━━━━━━━━━━━━━━━━━\u001b[0m\u001b[37m\u001b[0m \u001b[1m0s\u001b[0m 176ms/step - CER: 0.9426 - WER: 0.9742 - loss: 13.6299\n",
      "Epoch 1: val_CER improved from inf to 0.91050, saving model to Models/LSTM/202411110149/model.keras\n",
      "\u001b[1m2050/2050\u001b[0m \u001b[32m━━━━━━━━━━━━━━━━━━━━\u001b[0m\u001b[37m\u001b[0m \u001b[1m421s\u001b[0m 206ms/step - CER: 0.9426 - WER: 0.9742 - loss: 13.6297 - val_CER: 0.9105 - val_WER: 0.9586 - val_loss: 12.1414 - learning_rate: 0.0010\n",
      "Epoch 2/30\n",
      "\u001b[1m2050/2050\u001b[0m \u001b[32m━━━━━━━━━━━━━━━━━━━━\u001b[0m\u001b[37m\u001b[0m \u001b[1m0s\u001b[0m 182ms/step - CER: 0.8927 - WER: 0.9510 - loss: 12.4807\n",
      "Epoch 2: val_CER improved from 0.91050 to 0.86504, saving model to Models/LSTM/202411110149/model.keras\n",
      "\u001b[1m2050/2050\u001b[0m \u001b[32m━━━━━━━━━━━━━━━━━━━━\u001b[0m\u001b[37m\u001b[0m \u001b[1m433s\u001b[0m 211ms/step - CER: 0.8927 - WER: 0.9510 - loss: 12.4805 - val_CER: 0.8650 - val_WER: 0.9388 - val_loss: 11.0678 - learning_rate: 0.0010\n",
      "Epoch 3/30\n",
      "\u001b[1m2050/2050\u001b[0m \u001b[32m━━━━━━━━━━━━━━━━━━━━\u001b[0m\u001b[37m\u001b[0m \u001b[1m0s\u001b[0m 181ms/step - CER: 0.8479 - WER: 0.9317 - loss: 11.5859\n",
      "Epoch 3: val_CER improved from 0.86504 to 0.82468, saving model to Models/LSTM/202411110149/model.keras\n",
      "\u001b[1m2050/2050\u001b[0m \u001b[32m━━━━━━━━━━━━━━━━━━━━\u001b[0m\u001b[37m\u001b[0m \u001b[1m430s\u001b[0m 210ms/step - CER: 0.8479 - WER: 0.9317 - loss: 11.5858 - val_CER: 0.8247 - val_WER: 0.9222 - val_loss: 10.0178 - learning_rate: 0.0010\n",
      "Epoch 4/30\n",
      "\u001b[1m2050/2050\u001b[0m \u001b[32m━━━━━━━━━━━━━━━━━━━━\u001b[0m\u001b[37m\u001b[0m \u001b[1m0s\u001b[0m 181ms/step - CER: 0.8111 - WER: 0.9170 - loss: 10.7678\n",
      "Epoch 4: val_CER improved from 0.82468 to 0.79213, saving model to Models/LSTM/202411110149/model.keras\n",
      "\u001b[1m2050/2050\u001b[0m \u001b[32m━━━━━━━━━━━━━━━━━━━━\u001b[0m\u001b[37m\u001b[0m \u001b[1m430s\u001b[0m 210ms/step - CER: 0.8111 - WER: 0.9170 - loss: 10.7677 - val_CER: 0.7921 - val_WER: 0.9095 - val_loss: 9.0583 - learning_rate: 0.0010\n",
      "Epoch 5/30\n",
      "\u001b[1m2050/2050\u001b[0m \u001b[32m━━━━━━━━━━━━━━━━━━━━\u001b[0m\u001b[37m\u001b[0m \u001b[1m0s\u001b[0m 181ms/step - CER: 0.7807 - WER: 0.9056 - loss: 10.1104\n",
      "Epoch 5: val_CER improved from 0.79213 to 0.76384, saving model to Models/LSTM/202411110149/model.keras\n",
      "\u001b[1m2050/2050\u001b[0m \u001b[32m━━━━━━━━━━━━━━━━━━━━\u001b[0m\u001b[37m\u001b[0m \u001b[1m430s\u001b[0m 210ms/step - CER: 0.7807 - WER: 0.9056 - loss: 10.1103 - val_CER: 0.7638 - val_WER: 0.8998 - val_loss: 8.4360 - learning_rate: 0.0010\n",
      "Epoch 6/30\n",
      "\u001b[1m2050/2050\u001b[0m \u001b[32m━━━━━━━━━━━━━━━━━━━━\u001b[0m\u001b[37m\u001b[0m \u001b[1m0s\u001b[0m 181ms/step - CER: 0.7536 - WER: 0.8966 - loss: 9.5854\n",
      "Epoch 6: val_CER improved from 0.76384 to 0.73822, saving model to Models/LSTM/202411110149/model.keras\n",
      "\u001b[1m2050/2050\u001b[0m \u001b[32m━━━━━━━━━━━━━━━━━━━━\u001b[0m\u001b[37m\u001b[0m \u001b[1m431s\u001b[0m 210ms/step - CER: 0.7535 - WER: 0.8966 - loss: 9.5853 - val_CER: 0.7382 - val_WER: 0.8908 - val_loss: 7.7534 - learning_rate: 0.0010\n",
      "Epoch 7/30\n",
      "\u001b[1m2050/2050\u001b[0m \u001b[32m━━━━━━━━━━━━━━━━━━━━\u001b[0m\u001b[37m\u001b[0m \u001b[1m0s\u001b[0m 181ms/step - CER: 0.7290 - WER: 0.8873 - loss: 9.1347\n",
      "Epoch 7: val_CER improved from 0.73822 to 0.71524, saving model to Models/LSTM/202411110149/model.keras\n",
      "\u001b[1m2050/2050\u001b[0m \u001b[32m━━━━━━━━━━━━━━━━━━━━\u001b[0m\u001b[37m\u001b[0m \u001b[1m431s\u001b[0m 210ms/step - CER: 0.7290 - WER: 0.8873 - loss: 9.1347 - val_CER: 0.7152 - val_WER: 0.8814 - val_loss: 7.2893 - learning_rate: 0.0010\n",
      "Epoch 8/30\n",
      "\u001b[1m2050/2050\u001b[0m \u001b[32m━━━━━━━━━━━━━━━━━━━━\u001b[0m\u001b[37m\u001b[0m \u001b[1m0s\u001b[0m 181ms/step - CER: 0.7071 - WER: 0.8782 - loss: 8.7544\n",
      "Epoch 8: val_CER improved from 0.71524 to 0.69492, saving model to Models/LSTM/202411110149/model.keras\n",
      "\u001b[1m2050/2050\u001b[0m \u001b[32m━━━━━━━━━━━━━━━━━━━━\u001b[0m\u001b[37m\u001b[0m \u001b[1m431s\u001b[0m 210ms/step - CER: 0.7071 - WER: 0.8782 - loss: 8.7544 - val_CER: 0.6949 - val_WER: 0.8727 - val_loss: 6.9490 - learning_rate: 0.0010\n",
      "Epoch 9/30\n",
      "\u001b[1m2050/2050\u001b[0m \u001b[32m━━━━━━━━━━━━━━━━━━━━\u001b[0m\u001b[37m\u001b[0m \u001b[1m0s\u001b[0m 182ms/step - CER: 0.6877 - WER: 0.8698 - loss: 8.4436\n",
      "Epoch 9: val_CER improved from 0.69492 to 0.67709, saving model to Models/LSTM/202411110149/model.keras\n",
      "\u001b[1m2050/2050\u001b[0m \u001b[32m━━━━━━━━━━━━━━━━━━━━\u001b[0m\u001b[37m\u001b[0m \u001b[1m432s\u001b[0m 211ms/step - CER: 0.6876 - WER: 0.8698 - loss: 8.4436 - val_CER: 0.6771 - val_WER: 0.8650 - val_loss: 6.7832 - learning_rate: 0.0010\n",
      "Epoch 10/30\n",
      "\u001b[1m2050/2050\u001b[0m \u001b[32m━━━━━━━━━━━━━━━━━━━━\u001b[0m\u001b[37m\u001b[0m \u001b[1m0s\u001b[0m 182ms/step - CER: 0.6708 - WER: 0.8626 - loss: 8.2623\n",
      "Epoch 10: val_CER improved from 0.67709 to 0.66137, saving model to Models/LSTM/202411110149/model.keras\n",
      "\u001b[1m2050/2050\u001b[0m \u001b[32m━━━━━━━━━━━━━━━━━━━━\u001b[0m\u001b[37m\u001b[0m \u001b[1m433s\u001b[0m 211ms/step - CER: 0.6708 - WER: 0.8626 - loss: 8.2623 - val_CER: 0.6614 - val_WER: 0.8582 - val_loss: 6.5059 - learning_rate: 0.0010\n",
      "Epoch 11/30\n",
      "\u001b[1m2050/2050\u001b[0m \u001b[32m━━━━━━━━━━━━━━━━━━━━\u001b[0m\u001b[37m\u001b[0m \u001b[1m0s\u001b[0m 182ms/step - CER: 0.6557 - WER: 0.8556 - loss: 8.0839\n",
      "Epoch 11: val_CER improved from 0.66137 to 0.64714, saving model to Models/LSTM/202411110149/model.keras\n",
      "\u001b[1m2050/2050\u001b[0m \u001b[32m━━━━━━━━━━━━━━━━━━━━\u001b[0m\u001b[37m\u001b[0m \u001b[1m433s\u001b[0m 211ms/step - CER: 0.6557 - WER: 0.8556 - loss: 8.0839 - val_CER: 0.6471 - val_WER: 0.8514 - val_loss: 6.2512 - learning_rate: 0.0010\n",
      "Epoch 12/30\n",
      "\u001b[1m2050/2050\u001b[0m \u001b[32m━━━━━━━━━━━━━━━━━━━━\u001b[0m\u001b[37m\u001b[0m \u001b[1m0s\u001b[0m 182ms/step - CER: 0.6421 - WER: 0.8493 - loss: 7.9633\n",
      "Epoch 12: val_CER improved from 0.64714 to 0.63464, saving model to Models/LSTM/202411110149/model.keras\n",
      "\u001b[1m2050/2050\u001b[0m \u001b[32m━━━━━━━━━━━━━━━━━━━━\u001b[0m\u001b[37m\u001b[0m \u001b[1m432s\u001b[0m 211ms/step - CER: 0.6421 - WER: 0.8493 - loss: 7.9633 - val_CER: 0.6346 - val_WER: 0.8457 - val_loss: 6.2226 - learning_rate: 0.0010\n",
      "Epoch 13/30\n",
      "\u001b[1m2050/2050\u001b[0m \u001b[32m━━━━━━━━━━━━━━━━━━━━\u001b[0m\u001b[37m\u001b[0m \u001b[1m0s\u001b[0m 181ms/step - CER: 0.6302 - WER: 0.8438 - loss: 7.7899\n",
      "Epoch 13: val_CER improved from 0.63464 to 0.62333, saving model to Models/LSTM/202411110149/model.keras\n",
      "\u001b[1m2050/2050\u001b[0m \u001b[32m━━━━━━━━━━━━━━━━━━━━\u001b[0m\u001b[37m\u001b[0m \u001b[1m431s\u001b[0m 210ms/step - CER: 0.6302 - WER: 0.8438 - loss: 7.7899 - val_CER: 0.6233 - val_WER: 0.8405 - val_loss: 6.0944 - learning_rate: 0.0010\n",
      "Epoch 14/30\n",
      "\u001b[1m2050/2050\u001b[0m \u001b[32m━━━━━━━━━━━━━━━━━━━━\u001b[0m\u001b[37m\u001b[0m \u001b[1m0s\u001b[0m 182ms/step - CER: 0.6193 - WER: 0.8388 - loss: 7.6532\n",
      "Epoch 14: val_CER improved from 0.62333 to 0.61316, saving model to Models/LSTM/202411110149/model.keras\n",
      "\u001b[1m2050/2050\u001b[0m \u001b[32m━━━━━━━━━━━━━━━━━━━━\u001b[0m\u001b[37m\u001b[0m \u001b[1m432s\u001b[0m 211ms/step - CER: 0.6193 - WER: 0.8388 - loss: 7.6532 - val_CER: 0.6132 - val_WER: 0.8358 - val_loss: 5.9907 - learning_rate: 0.0010\n",
      "Epoch 15/30\n",
      "\u001b[1m2050/2050\u001b[0m \u001b[32m━━━━━━━━━━━━━━━━━━━━\u001b[0m\u001b[37m\u001b[0m \u001b[1m0s\u001b[0m 182ms/step - CER: 0.6095 - WER: 0.8342 - loss: 7.5106\n",
      "Epoch 15: val_CER improved from 0.61316 to 0.60370, saving model to Models/LSTM/202411110149/model.keras\n",
      "\u001b[1m2050/2050\u001b[0m \u001b[32m━━━━━━━━━━━━━━━━━━━━\u001b[0m\u001b[37m\u001b[0m \u001b[1m433s\u001b[0m 211ms/step - CER: 0.6095 - WER: 0.8342 - loss: 7.5107 - val_CER: 0.6037 - val_WER: 0.8312 - val_loss: 5.6967 - learning_rate: 0.0010\n",
      "Epoch 16/30\n",
      "\u001b[1m2050/2050\u001b[0m \u001b[32m━━━━━━━━━━━━━━━━━━━━\u001b[0m\u001b[37m\u001b[0m \u001b[1m0s\u001b[0m 181ms/step - CER: 0.6003 - WER: 0.8297 - loss: 7.4718\n",
      "Epoch 16: val_CER improved from 0.60370 to 0.59504, saving model to Models/LSTM/202411110149/model.keras\n",
      "\u001b[1m2050/2050\u001b[0m \u001b[32m━━━━━━━━━━━━━━━━━━━━\u001b[0m\u001b[37m\u001b[0m \u001b[1m431s\u001b[0m 210ms/step - CER: 0.6003 - WER: 0.8297 - loss: 7.4718 - val_CER: 0.5950 - val_WER: 0.8269 - val_loss: 5.6939 - learning_rate: 0.0010\n",
      "Epoch 17/30\n",
      "\u001b[1m2050/2050\u001b[0m \u001b[32m━━━━━━━━━━━━━━━━━━━━\u001b[0m\u001b[37m\u001b[0m \u001b[1m0s\u001b[0m 182ms/step - CER: 0.5920 - WER: 0.8256 - loss: 7.3965\n",
      "Epoch 17: val_CER improved from 0.59504 to 0.58713, saving model to Models/LSTM/202411110149/model.keras\n",
      "\u001b[1m2050/2050\u001b[0m \u001b[32m━━━━━━━━━━━━━━━━━━━━\u001b[0m\u001b[37m\u001b[0m \u001b[1m433s\u001b[0m 211ms/step - CER: 0.5920 - WER: 0.8256 - loss: 7.3965 - val_CER: 0.5871 - val_WER: 0.8231 - val_loss: 5.5722 - learning_rate: 0.0010\n",
      "Epoch 18/30\n",
      "\u001b[1m2050/2050\u001b[0m \u001b[32m━━━━━━━━━━━━━━━━━━━━\u001b[0m\u001b[37m\u001b[0m \u001b[1m0s\u001b[0m 182ms/step - CER: 0.5843 - WER: 0.8217 - loss: 7.2314\n",
      "Epoch 18: val_CER improved from 0.58713 to 0.57986, saving model to Models/LSTM/202411110149/model.keras\n",
      "\u001b[1m2050/2050\u001b[0m \u001b[32m━━━━━━━━━━━━━━━━━━━━\u001b[0m\u001b[37m\u001b[0m \u001b[1m433s\u001b[0m 211ms/step - CER: 0.5843 - WER: 0.8217 - loss: 7.2314 - val_CER: 0.5799 - val_WER: 0.8194 - val_loss: 5.6266 - learning_rate: 0.0010\n",
      "Epoch 19/30\n",
      "\u001b[1m2050/2050\u001b[0m \u001b[32m━━━━━━━━━━━━━━━━━━━━\u001b[0m\u001b[37m\u001b[0m \u001b[1m0s\u001b[0m 182ms/step - CER: 0.5772 - WER: 0.8182 - loss: 7.2490\n",
      "Epoch 19: val_CER improved from 0.57986 to 0.57307, saving model to Models/LSTM/202411110149/model.keras\n",
      "\u001b[1m2050/2050\u001b[0m \u001b[32m━━━━━━━━━━━━━━━━━━━━\u001b[0m\u001b[37m\u001b[0m \u001b[1m434s\u001b[0m 212ms/step - CER: 0.5772 - WER: 0.8182 - loss: 7.2490 - val_CER: 0.5731 - val_WER: 0.8160 - val_loss: 5.5848 - learning_rate: 0.0010\n",
      "Epoch 20/30\n",
      "\u001b[1m2050/2050\u001b[0m \u001b[32m━━━━━━━━━━━━━━━━━━━━\u001b[0m\u001b[37m\u001b[0m \u001b[1m0s\u001b[0m 180ms/step - CER: 0.5706 - WER: 0.8149 - loss: 7.1017\n",
      "Epoch 20: val_CER improved from 0.57307 to 0.56672, saving model to Models/LSTM/202411110149/model.keras\n",
      "\u001b[1m2050/2050\u001b[0m \u001b[32m━━━━━━━━━━━━━━━━━━━━\u001b[0m\u001b[37m\u001b[0m \u001b[1m437s\u001b[0m 209ms/step - CER: 0.5706 - WER: 0.8149 - loss: 7.1017 - val_CER: 0.5667 - val_WER: 0.8128 - val_loss: 5.3343 - learning_rate: 0.0010\n",
      "Epoch 21/30\n",
      "\u001b[1m2050/2050\u001b[0m \u001b[32m━━━━━━━━━━━━━━━━━━━━\u001b[0m\u001b[37m\u001b[0m \u001b[1m0s\u001b[0m 183ms/step - CER: 0.5645 - WER: 0.8118 - loss: 7.1100\n",
      "Epoch 21: val_CER improved from 0.56672 to 0.56094, saving model to Models/LSTM/202411110149/model.keras\n",
      "\u001b[1m2050/2050\u001b[0m \u001b[32m━━━━━━━━━━━━━━━━━━━━\u001b[0m\u001b[37m\u001b[0m \u001b[1m434s\u001b[0m 212ms/step - CER: 0.5645 - WER: 0.8118 - loss: 7.1101 - val_CER: 0.5609 - val_WER: 0.8098 - val_loss: 5.4049 - learning_rate: 0.0010\n",
      "Epoch 22/30\n",
      "\u001b[1m2050/2050\u001b[0m \u001b[32m━━━━━━━━━━━━━━━━━━━━\u001b[0m\u001b[37m\u001b[0m \u001b[1m0s\u001b[0m 182ms/step - CER: 0.5589 - WER: 0.8089 - loss: 7.1663\n",
      "Epoch 22: val_CER improved from 0.56094 to 0.55553, saving model to Models/LSTM/202411110149/model.keras\n",
      "\u001b[1m2050/2050\u001b[0m \u001b[32m━━━━━━━━━━━━━━━━━━━━\u001b[0m\u001b[37m\u001b[0m \u001b[1m432s\u001b[0m 211ms/step - CER: 0.5589 - WER: 0.8089 - loss: 7.1663 - val_CER: 0.5555 - val_WER: 0.8071 - val_loss: 5.5559 - learning_rate: 0.0010\n",
      "Epoch 23/30\n",
      "\u001b[1m2050/2050\u001b[0m \u001b[32m━━━━━━━━━━━━━━━━━━━━\u001b[0m\u001b[37m\u001b[0m \u001b[1m0s\u001b[0m 182ms/step - CER: 0.5535 - WER: 0.8062 - loss: 7.0688\n",
      "Epoch 23: val_CER improved from 0.55553 to 0.55022, saving model to Models/LSTM/202411110149/model.keras\n",
      "\u001b[1m2050/2050\u001b[0m \u001b[32m━━━━━━━━━━━━━━━━━━━━\u001b[0m\u001b[37m\u001b[0m \u001b[1m433s\u001b[0m 211ms/step - CER: 0.5535 - WER: 0.8062 - loss: 7.0688 - val_CER: 0.5502 - val_WER: 0.8042 - val_loss: 5.1624 - learning_rate: 0.0010\n",
      "Epoch 24/30\n",
      "\u001b[1m2050/2050\u001b[0m \u001b[32m━━━━━━━━━━━━━━━━━━━━\u001b[0m\u001b[37m\u001b[0m \u001b[1m0s\u001b[0m 183ms/step - CER: 0.5484 - WER: 0.8034 - loss: 7.0505\n",
      "Epoch 24: val_CER improved from 0.55022 to 0.54548, saving model to Models/LSTM/202411110149/model.keras\n",
      "\u001b[1m2050/2050\u001b[0m \u001b[32m━━━━━━━━━━━━━━━━━━━━\u001b[0m\u001b[37m\u001b[0m \u001b[1m435s\u001b[0m 212ms/step - CER: 0.5484 - WER: 0.8034 - loss: 7.0505 - val_CER: 0.5455 - val_WER: 0.8018 - val_loss: 5.1616 - learning_rate: 0.0010\n",
      "Epoch 25/30\n",
      "\u001b[1m2050/2050\u001b[0m \u001b[32m━━━━━━━━━━━━━━━━━━━━\u001b[0m\u001b[37m\u001b[0m \u001b[1m0s\u001b[0m 182ms/step - CER: 0.5437 - WER: 0.8009 - loss: 6.9290\n",
      "Epoch 25: val_CER improved from 0.54548 to 0.54088, saving model to Models/LSTM/202411110149/model.keras\n",
      "\u001b[1m2050/2050\u001b[0m \u001b[32m━━━━━━━━━━━━━━━━━━━━\u001b[0m\u001b[37m\u001b[0m \u001b[1m431s\u001b[0m 210ms/step - CER: 0.5437 - WER: 0.8009 - loss: 6.9290 - val_CER: 0.5409 - val_WER: 0.7993 - val_loss: 5.0930 - learning_rate: 0.0010\n",
      "Epoch 26/30\n",
      "\u001b[1m2050/2050\u001b[0m \u001b[32m━━━━━━━━━━━━━━━━━━━━\u001b[0m\u001b[37m\u001b[0m \u001b[1m0s\u001b[0m 181ms/step - CER: 0.5393 - WER: 0.7986 - loss: 6.9382\n",
      "Epoch 26: val_CER improved from 0.54088 to 0.53659, saving model to Models/LSTM/202411110149/model.keras\n",
      "\u001b[1m2050/2050\u001b[0m \u001b[32m━━━━━━━━━━━━━━━━━━━━\u001b[0m\u001b[37m\u001b[0m \u001b[1m431s\u001b[0m 210ms/step - CER: 0.5393 - WER: 0.7986 - loss: 6.9382 - val_CER: 0.5366 - val_WER: 0.7970 - val_loss: 5.0483 - learning_rate: 0.0010\n",
      "Epoch 27/30\n",
      "\u001b[1m2050/2050\u001b[0m \u001b[32m━━━━━━━━━━━━━━━━━━━━\u001b[0m\u001b[37m\u001b[0m \u001b[1m0s\u001b[0m 182ms/step - CER: 0.5351 - WER: 0.7963 - loss: 6.8576\n",
      "Epoch 27: val_CER improved from 0.53659 to 0.53244, saving model to Models/LSTM/202411110149/model.keras\n",
      "\u001b[1m2050/2050\u001b[0m \u001b[32m━━━━━━━━━━━━━━━━━━━━\u001b[0m\u001b[37m\u001b[0m \u001b[1m432s\u001b[0m 211ms/step - CER: 0.5351 - WER: 0.7963 - loss: 6.8576 - val_CER: 0.5324 - val_WER: 0.7947 - val_loss: 4.9227 - learning_rate: 0.0010\n",
      "Epoch 28/30\n",
      "\u001b[1m2050/2050\u001b[0m \u001b[32m━━━━━━━━━━━━━━━━━━━━\u001b[0m\u001b[37m\u001b[0m \u001b[1m0s\u001b[0m 182ms/step - CER: 0.5310 - WER: 0.7940 - loss: 6.8494\n",
      "Epoch 28: val_CER improved from 0.53244 to 0.52859, saving model to Models/LSTM/202411110149/model.keras\n",
      "\u001b[1m2050/2050\u001b[0m \u001b[32m━━━━━━━━━━━━━━━━━━━━\u001b[0m\u001b[37m\u001b[0m \u001b[1m432s\u001b[0m 211ms/step - CER: 0.5310 - WER: 0.7940 - loss: 6.8494 - val_CER: 0.5286 - val_WER: 0.7926 - val_loss: 4.9933 - learning_rate: 0.0010\n",
      "Epoch 29/30\n",
      "\u001b[1m2050/2050\u001b[0m \u001b[32m━━━━━━━━━━━━━━━━━━━━\u001b[0m\u001b[37m\u001b[0m \u001b[1m0s\u001b[0m 182ms/step - CER: 0.5273 - WER: 0.7920 - loss: 6.8764\n",
      "Epoch 29: val_CER improved from 0.52859 to 0.52502, saving model to Models/LSTM/202411110149/model.keras\n",
      "\u001b[1m2050/2050\u001b[0m \u001b[32m━━━━━━━━━━━━━━━━━━━━\u001b[0m\u001b[37m\u001b[0m \u001b[1m433s\u001b[0m 211ms/step - CER: 0.5273 - WER: 0.7920 - loss: 6.8764 - val_CER: 0.5250 - val_WER: 0.7906 - val_loss: 4.9291 - learning_rate: 0.0010\n",
      "Epoch 30/30\n",
      "\u001b[1m2050/2050\u001b[0m \u001b[32m━━━━━━━━━━━━━━━━━━━━\u001b[0m\u001b[37m\u001b[0m \u001b[1m0s\u001b[0m 182ms/step - CER: 0.5238 - WER: 0.7901 - loss: 6.8182\n",
      "Epoch 30: val_CER improved from 0.52502 to 0.52166, saving model to Models/LSTM/202411110149/model.keras\n",
      "\u001b[1m2050/2050\u001b[0m \u001b[32m━━━━━━━━━━━━━━━━━━━━\u001b[0m\u001b[37m\u001b[0m \u001b[1m433s\u001b[0m 211ms/step - CER: 0.5238 - WER: 0.7901 - loss: 6.8182 - val_CER: 0.5217 - val_WER: 0.7888 - val_loss: 5.1808 - learning_rate: 0.0010\n",
      "'Functional' object has no attribute '_get_save_spec'\n"
     ]
    },
    {
     "data": {
      "image/png": "[encoded data removed]",
      "text/plain": [
       "<Figure size 1200x400 with 3 Axes>"
      ]
     },
     "metadata": {},
     "output_type": "display_data"
    },
    {
     "data": {
      "text/plain": [
       "<keras.src.callbacks.history.History at 0x7f5a1c7a3910>"
      ]
     },
     "execution_count": 16,
     "metadata": {},
     "output_type": "execute_result"
    }
   ],
   "source": [
    "# Train the model\n",
    "model.fit(\n",
    "    train_data_provider,\n",
    "    validation_data=val_data_provider,\n",
    "    epochs=configs.train_epochs,\n",
    "    callbacks=[earlystopper, checkpoint, trainLogger, reduceLROnPlat, tb_callback, model2onnx, training_plot_callback],\n",
    ")"
   ]
  },
  {
   "cell_type": "code",
   "execution_count": null,
   "id": "e839af5b-ca13-486b-a572-bd9c848ff04c",
   "metadata": {},
   "outputs": [],
   "source": []
  }
 ],
 "metadata": {
  "kernelspec": {
   "display_name": "Python 3 (ipykernel)",
   "language": "python",
   "name": "python3"
  },
  "language_info": {
   "codemirror_mode": {
    "name": "ipython",
    "version": 3
   },
   "file_extension": ".py",
   "mimetype": "text/x-python",
   "name": "python",
   "nbconvert_exporter": "python",
   "pygments_lexer": "ipython3",
   "version": "3.10.12"
  }
 },
 "nbformat": 4,
 "nbformat_minor": 5
}
